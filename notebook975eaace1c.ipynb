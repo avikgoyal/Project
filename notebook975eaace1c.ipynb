{
  "metadata": {
    "kernelspec": {
      "language": "python",
      "display_name": "Python 3",
      "name": "python3"
    },
    "language_info": {
      "name": "python",
      "version": "3.10.14",
      "mimetype": "text/x-python",
      "codemirror_mode": {
        "name": "ipython",
        "version": 3
      },
      "pygments_lexer": "ipython3",
      "nbconvert_exporter": "python",
      "file_extension": ".py"
    },
    "kaggle": {
      "accelerator": "gpu",
      "dataSources": [
        {
          "sourceId": 2542588,
          "sourceType": "datasetVersion",
          "datasetId": 1541807
        }
      ],
      "dockerImageVersionId": 30786,
      "isInternetEnabled": false,
      "language": "python",
      "sourceType": "notebook",
      "isGpuEnabled": true
    },
    "colab": {
      "name": "notebook975eaace1c",
      "provenance": [],
      "include_colab_link": true
    }
  },
  "nbformat_minor": 0,
  "nbformat": 4,
  "cells": [
    {
      "cell_type": "markdown",
      "metadata": {
        "id": "view-in-github",
        "colab_type": "text"
      },
      "source": [
        "<a href=\"https://colab.research.google.com/github/avikgoyal/Project/blob/main/notebook975eaace1c.ipynb\" target=\"_parent\"><img src=\"https://colab.research.google.com/assets/colab-badge.svg\" alt=\"Open In Colab\"/></a>"
      ]
    },
    {
      "source": [
        "# IMPORTANT: RUN THIS CELL IN ORDER TO IMPORT YOUR KAGGLE DATA SOURCES,\n",
        "# THEN FEEL FREE TO DELETE THIS CELL.\n",
        "# NOTE: THIS NOTEBOOK ENVIRONMENT DIFFERS FROM KAGGLE'S PYTHON\n",
        "# ENVIRONMENT SO THERE MAY BE MISSING LIBRARIES USED BY YOUR\n",
        "# NOTEBOOK.\n",
        "import kagglehub\n",
        "mohitsingh1804_plantvillage_path = kagglehub.dataset_download('mohitsingh1804/plantvillage')\n",
        "\n",
        "print('Data source import complete.')\n"
      ],
      "metadata": {
        "id": "3lvXZjV4aJj2"
      },
      "cell_type": "code",
      "outputs": [],
      "execution_count": null
    },
    {
      "cell_type": "code",
      "source": [
        "train_dir = '/kaggle/input/plantvillage/PlantVillage/train'\n",
        "val_dir = '/kaggle/input/plantvillage/PlantVillage/val'\n"
      ],
      "metadata": {
        "execution": {
          "iopub.status.busy": "2024-11-05T19:55:27.382575Z",
          "iopub.execute_input": "2024-11-05T19:55:27.383178Z",
          "iopub.status.idle": "2024-11-05T19:55:27.387294Z",
          "shell.execute_reply.started": "2024-11-05T19:55:27.38314Z",
          "shell.execute_reply": "2024-11-05T19:55:27.386239Z"
        },
        "trusted": true,
        "id": "w3F_jYVkaJj3"
      },
      "execution_count": null,
      "outputs": []
    },
    {
      "cell_type": "code",
      "source": [
        "# Imports\n",
        "import tensorflow as tf\n",
        "from tensorflow.keras.preprocessing.image import ImageDataGenerator\n",
        "from tensorflow.keras.applications import EfficientNetB0\n",
        "from tensorflow.keras.layers import Dense, GlobalAveragePooling2D\n",
        "from tensorflow.keras.models import Model\n",
        "import matplotlib.pyplot as plt\n",
        "\n",
        "# 2. Image Data Generators\n",
        "train_datagen = ImageDataGenerator(\n",
        "    rescale=1.0/255.0,\n",
        "    rotation_range=20,\n",
        "    width_shift_range=0.2,\n",
        "    height_shift_range=0.2,\n",
        "    shear_range=0.2,\n",
        "    zoom_range=0.2,\n",
        "    horizontal_flip=True\n",
        ")\n",
        "\n",
        "val_datagen = ImageDataGenerator(rescale=1.0/255.0)\n",
        "\n",
        "batch_size = 32\n",
        "img_size = (224, 224)\n",
        "\n",
        "# 3. Creating Train and Validation Generators\n",
        "train_generator = train_datagen.flow_from_directory(\n",
        "    train_dir,\n",
        "    target_size=img_size,\n",
        "    batch_size=batch_size,\n",
        "    class_mode='categorical'\n",
        ")\n",
        "\n",
        "val_generator = val_datagen.flow_from_directory(\n",
        "    val_dir,\n",
        "    target_size=img_size,\n",
        "    batch_size=batch_size,\n",
        "    class_mode='categorical'\n",
        ")\n",
        "\n",
        "# Define number of classes based on dataset structure\n",
        "num_classes = len(train_generator.class_indices)  # Number of classes from data generator\n",
        "\n",
        "\n"
      ],
      "metadata": {
        "execution": {
          "iopub.status.busy": "2024-11-05T19:55:29.467393Z",
          "iopub.execute_input": "2024-11-05T19:55:29.468016Z",
          "iopub.status.idle": "2024-11-05T19:55:47.423328Z",
          "shell.execute_reply.started": "2024-11-05T19:55:29.467975Z",
          "shell.execute_reply": "2024-11-05T19:55:47.422191Z"
        },
        "trusted": true,
        "id": "4xHfKPBhaJj4"
      },
      "execution_count": null,
      "outputs": []
    },
    {
      "cell_type": "code",
      "source": [
        "from tensorflow.keras.applications import MobileNetV2\n",
        "from tensorflow.keras.layers import Dense, GlobalAveragePooling2D\n",
        "from tensorflow.keras.models import Model\n",
        "\n",
        "# Load MobileNetV2 with ImageNet weights\n",
        "base_model = MobileNetV2(weights='imagenet', include_top=False, input_shape=(224, 224, 3))\n",
        "base_model.trainable = False  # Freeze the base model\n",
        "\n",
        "# Add custom layers on top\n",
        "x = base_model.output\n",
        "x = GlobalAveragePooling2D()(x)\n",
        "x = Dense(128, activation='relu')(x)\n",
        "predictions = Dense(num_classes, activation='softmax')(x)\n",
        "\n",
        "# Build the model\n",
        "model = Model(inputs=base_model.input, outputs=predictions)\n",
        "\n",
        "# Compile the model\n",
        "model.compile(optimizer='adam', loss='categorical_crossentropy', metrics=['accuracy'])\n",
        "\n",
        "# Training\n",
        "epochs = 5\n",
        "history = model.fit(\n",
        "    train_generator,\n",
        "    steps_per_epoch=train_generator.samples // batch_size,\n",
        "    validation_data=val_generator,\n",
        "    validation_steps=val_generator.samples // batch_size,\n",
        "    epochs=epochs\n",
        ")\n",
        "\n",
        "print(\"Training completed successfully.\")\n"
      ],
      "metadata": {
        "execution": {
          "iopub.status.busy": "2024-11-05T19:55:50.048267Z",
          "iopub.execute_input": "2024-11-05T19:55:50.048948Z",
          "iopub.status.idle": "2024-11-05T20:28:55.383671Z",
          "shell.execute_reply.started": "2024-11-05T19:55:50.048906Z",
          "shell.execute_reply": "2024-11-05T20:28:55.382639Z"
        },
        "trusted": true,
        "id": "KQUZevEnaJj4"
      },
      "execution_count": null,
      "outputs": []
    },
    {
      "cell_type": "code",
      "source": [
        "from sklearn.metrics import classification_report, confusion_matrix\n",
        "import numpy as np\n",
        "\n",
        "# Predict classes on the validation set\n",
        "val_generator.reset()\n",
        "Y_pred = model.predict(val_generator, steps=val_generator.samples // batch_size + 1)\n",
        "y_pred = np.argmax(Y_pred, axis=1)\n",
        "\n",
        "# Print classification report\n",
        "class_labels = list(train_generator.class_indices.keys())\n",
        "print(\"Classification Report:\")\n",
        "print(classification_report(val_generator.classes, y_pred, target_names=class_labels))\n",
        "\n",
        "# Confusion Matrix\n",
        "print(\"Confusion Matrix:\")\n",
        "conf_matrix = confusion_matrix(val_generator.classes, y_pred)\n",
        "print(conf_matrix)\n"
      ],
      "metadata": {
        "execution": {
          "iopub.status.busy": "2024-11-05T20:39:20.271089Z",
          "iopub.execute_input": "2024-11-05T20:39:20.272544Z",
          "iopub.status.idle": "2024-11-05T20:39:46.812211Z",
          "shell.execute_reply.started": "2024-11-05T20:39:20.272489Z",
          "shell.execute_reply": "2024-11-05T20:39:46.811303Z"
        },
        "trusted": true,
        "id": "VdaU7m6CaJj4"
      },
      "execution_count": null,
      "outputs": []
    },
    {
      "cell_type": "code",
      "source": [
        "import matplotlib.pyplot as plt\n",
        "\n",
        "# Plot accuracy\n",
        "plt.plot(history.history['accuracy'], label='Train Accuracy')\n",
        "plt.plot(history.history['val_accuracy'], label='Validation Accuracy')\n",
        "plt.xlabel('Epoch')\n",
        "plt.ylabel('Accuracy')\n",
        "plt.legend()\n",
        "plt.title('Training and Validation Accuracy')\n",
        "plt.show()\n",
        "\n",
        "# Plot loss\n",
        "plt.plot(history.history['loss'], label='Train Loss')\n",
        "plt.plot(history.history['val_loss'], label='Validation Loss')\n",
        "plt.xlabel('Epoch')\n",
        "plt.ylabel('Loss')\n",
        "plt.legend()\n",
        "plt.title('Training and Validation Loss')\n",
        "plt.show()\n"
      ],
      "metadata": {
        "execution": {
          "iopub.status.busy": "2024-11-05T20:41:17.218703Z",
          "iopub.execute_input": "2024-11-05T20:41:17.21985Z",
          "iopub.status.idle": "2024-11-05T20:41:17.846452Z",
          "shell.execute_reply.started": "2024-11-05T20:41:17.219804Z",
          "shell.execute_reply": "2024-11-05T20:41:17.845551Z"
        },
        "trusted": true,
        "id": "OXl2g8rGaJj5"
      },
      "execution_count": null,
      "outputs": []
    },
    {
      "cell_type": "code",
      "source": [
        "import seaborn as sns\n",
        "import pandas as pd\n",
        "\n",
        "# Plot confusion matrix\n",
        "plt.figure(figsize=(10, 8))\n",
        "sns.heatmap(conf_matrix, annot=True, fmt='d', cmap='Blues', xticklabels=class_labels, yticklabels=class_labels)\n",
        "plt.xlabel('Predicted Labels')\n",
        "plt.ylabel('True Labels')\n",
        "plt.title('Confusion Matrix')\n",
        "plt.show()\n"
      ],
      "metadata": {
        "execution": {
          "iopub.status.busy": "2024-11-05T20:41:55.287748Z",
          "iopub.execute_input": "2024-11-05T20:41:55.288686Z",
          "iopub.status.idle": "2024-11-05T20:41:59.084798Z",
          "shell.execute_reply.started": "2024-11-05T20:41:55.28862Z",
          "shell.execute_reply": "2024-11-05T20:41:59.083711Z"
        },
        "trusted": true,
        "id": "6I1DxZA0aJj5"
      },
      "execution_count": null,
      "outputs": []
    },
    {
      "cell_type": "code",
      "source": [
        "# Print the model architecture\n",
        "model.summary()\n"
      ],
      "metadata": {
        "execution": {
          "iopub.status.busy": "2024-11-05T20:42:24.626052Z",
          "iopub.execute_input": "2024-11-05T20:42:24.627455Z",
          "iopub.status.idle": "2024-11-05T20:42:24.860032Z",
          "shell.execute_reply.started": "2024-11-05T20:42:24.6274Z",
          "shell.execute_reply": "2024-11-05T20:42:24.859171Z"
        },
        "trusted": true,
        "id": "z4ofFVXPaJj5"
      },
      "execution_count": null,
      "outputs": []
    }
  ]
}